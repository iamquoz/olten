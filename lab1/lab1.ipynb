{
 "cells": [
  {
   "cell_type": "code",
   "execution_count": null,
   "metadata": {},
   "outputs": [],
   "source": [
    "from selenium import webdriver\n",
    "from selenium.webdriver.common.by import By\n",
    "import cv2\n",
    "import pytesseract\n",
    "import time\n",
    "\n",
    "pytesseract.pytesseract.tesseract_cmd = R\"C:\\Program Files\\Tesseract-OCR\\tesseract.exe\"\n",
    "filename = 'map.jpg'\n",
    "\n",
    "\n",
    "options = webdriver.EdgeOptions()\n",
    "options.add_argument(\"--headless=new\")\n",
    "URL = \"https://moscowzoo.ru/animals/\"\n",
    "driver = webdriver.Edge(options=options)\n",
    "driver.get(URL)\n",
    "time.sleep(0.5)"
   ]
  },
  {
   "cell_type": "code",
   "execution_count": null,
   "metadata": {},
   "outputs": [],
   "source": [
    "while True:\n",
    "\ttry:\n",
    "\t\tbtn_element = driver.find_element(By.CLASS_NAME, \"load_more\")\n",
    "\t\tbtn_element.click()\n",
    "\t\ttime.sleep(0.5)\n",
    "\texcept Exception as e:\n",
    "\t\tbreak\n",
    "\n",
    "desiredAnimal = input('Введите желаемое животное: ')\n",
    "\n",
    "animalLinks = driver.find_elements(By.CLASS_NAME, \"sp-block-item\")\n",
    "for animal in animalLinks:\n",
    "\tanimalName = animal.find_element(By.XPATH, \".//div/p\")\n",
    "\tif (desiredAnimal.casefold() in animalName.get_attribute('innerHTML').casefold()):\n",
    "\t\tanimal.click()\n",
    "\t\tbreak\n",
    "\n",
    "time.sleep(1)"
   ]
  },
  {
   "cell_type": "code",
   "execution_count": null,
   "metadata": {},
   "outputs": [],
   "source": [
    "\n",
    "page = driver.find_element(By.CLASS_NAME, \"dp-content-inner\")\n",
    "texts = page.find_elements(By.XPATH, './/*')\n",
    "\n",
    "previousText = \"\"\n",
    "for text in texts:\n",
    "\tif len(text.text) > 2 and previousText != text.text:\n",
    "\t\tprint(text.text)\n",
    "\t\tpreviousText = text.text\n",
    "\t\n",
    "driver.quit()"
   ]
  },
  {
   "cell_type": "code",
   "execution_count": null,
   "metadata": {},
   "outputs": [],
   "source": [
    "img = cv2.imread(filename)\n",
    "img = cv2.resize(img, None, fx=2, fy=2)\n",
    "h, w, _ = img.shape"
   ]
  },
  {
   "cell_type": "code",
   "execution_count": null,
   "metadata": {},
   "outputs": [],
   "source": [
    "\n",
    "boxes = pytesseract.image_to_boxes(img, lang='rus')\n",
    "\n",
    "for b in boxes.splitlines():\n",
    "    b = b.split(' ')\n",
    "    if b[0].casefold() in desiredAnimal.casefold():\n",
    "    \timg = cv2.rectangle(img, (int(b[1]), h - int(b[2])), (int(b[3]), h - int(b[4])), (0, 255, 0), 5)\n"
   ]
  },
  {
   "cell_type": "code",
   "execution_count": null,
   "metadata": {},
   "outputs": [],
   "source": [
    "cv2.namedWindow(\"imgWindow\", cv2.WINDOW_NORMAL)\n",
    "\n",
    "cv2.imshow('imgWindow', img)\n",
    "cv2.resizeWindow(\"imgWindow\", 1200, 1000)\n",
    "cv2.waitKey(0)\n",
    "cv2.destroyAllWindows()"
   ]
  }
 ],
 "metadata": {
  "kernelspec": {
   "display_name": "Python 3",
   "language": "python",
   "name": "python3"
  },
  "language_info": {
   "codemirror_mode": {
    "name": "ipython",
    "version": 3
   },
   "file_extension": ".py",
   "mimetype": "text/x-python",
   "name": "python",
   "nbconvert_exporter": "python",
   "pygments_lexer": "ipython3",
   "version": "3.11.5"
  },
  "orig_nbformat": 4
 },
 "nbformat": 4,
 "nbformat_minor": 2
}
